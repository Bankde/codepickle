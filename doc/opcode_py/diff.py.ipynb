{
 "cells": [
  {
   "cell_type": "code",
   "execution_count": 43,
   "metadata": {},
   "outputs": [],
   "source": [
    "import os\n",
    "import json\n",
    "\n",
    "directory = os.fsencode(\".\")\n",
    "all_ver_ops = {}\n",
    "    \n",
    "for file in os.listdir(directory):\n",
    "     filename = os.fsdecode(file)\n",
    "     if filename.startswith(\"3.\"):\n",
    "        opmap = json.loads(open(file).read())\n",
    "        r_opmap = {v: k for k, v in opmap.items()}\n",
    "        for i in range(256):\n",
    "            if i not in r_opmap:\n",
    "                r_opmap[i] = \"none\"\n",
    "        all_ver_ops[filename] = r_opmap"
   ]
  },
  {
   "cell_type": "code",
   "execution_count": 44,
   "metadata": {},
   "outputs": [
    {
     "data": {
      "text/plain": [
       "['3.7.17', '3.8.17', '3.9.17', '3.10.12', '3.11.4']"
      ]
     },
     "execution_count": 44,
     "metadata": {},
     "output_type": "execute_result"
    }
   ],
   "source": [
    "forced_sorted_key = sorted(list(all_ver_ops.keys()), key=lambda x: int(x.split(\".\")[1]))\n",
    "forced_sorted_key"
   ]
  },
  {
   "cell_type": "code",
   "execution_count": 45,
   "metadata": {},
   "outputs": [
    {
     "name": "stdout",
     "output_type": "stream",
     "text": [
      "0 ['none', 'none', 'none', 'none', 'CACHE']\n",
      "2 ['ROT_TWO', 'ROT_TWO', 'ROT_TWO', 'ROT_TWO', 'PUSH_NULL']\n",
      "3 ['ROT_THREE', 'ROT_THREE', 'ROT_THREE', 'ROT_THREE', 'none']\n",
      "4 ['DUP_TOP', 'DUP_TOP', 'DUP_TOP', 'DUP_TOP', 'none']\n",
      "5 ['DUP_TOP_TWO', 'DUP_TOP_TWO', 'DUP_TOP_TWO', 'DUP_TOP_TWO', 'none']\n",
      "6 ['none', 'ROT_FOUR', 'ROT_FOUR', 'ROT_FOUR', 'none']\n",
      "16 ['BINARY_MATRIX_MULTIPLY', 'BINARY_MATRIX_MULTIPLY', 'BINARY_MATRIX_MULTIPLY', 'BINARY_MATRIX_MULTIPLY', 'none']\n",
      "17 ['INPLACE_MATRIX_MULTIPLY', 'INPLACE_MATRIX_MULTIPLY', 'INPLACE_MATRIX_MULTIPLY', 'INPLACE_MATRIX_MULTIPLY', 'none']\n",
      "19 ['BINARY_POWER', 'BINARY_POWER', 'BINARY_POWER', 'BINARY_POWER', 'none']\n",
      "20 ['BINARY_MULTIPLY', 'BINARY_MULTIPLY', 'BINARY_MULTIPLY', 'BINARY_MULTIPLY', 'none']\n",
      "22 ['BINARY_MODULO', 'BINARY_MODULO', 'BINARY_MODULO', 'BINARY_MODULO', 'none']\n",
      "23 ['BINARY_ADD', 'BINARY_ADD', 'BINARY_ADD', 'BINARY_ADD', 'none']\n",
      "24 ['BINARY_SUBTRACT', 'BINARY_SUBTRACT', 'BINARY_SUBTRACT', 'BINARY_SUBTRACT', 'none']\n",
      "26 ['BINARY_FLOOR_DIVIDE', 'BINARY_FLOOR_DIVIDE', 'BINARY_FLOOR_DIVIDE', 'BINARY_FLOOR_DIVIDE', 'none']\n",
      "27 ['BINARY_TRUE_DIVIDE', 'BINARY_TRUE_DIVIDE', 'BINARY_TRUE_DIVIDE', 'BINARY_TRUE_DIVIDE', 'none']\n",
      "28 ['INPLACE_FLOOR_DIVIDE', 'INPLACE_FLOOR_DIVIDE', 'INPLACE_FLOOR_DIVIDE', 'INPLACE_FLOOR_DIVIDE', 'none']\n",
      "29 ['INPLACE_TRUE_DIVIDE', 'INPLACE_TRUE_DIVIDE', 'INPLACE_TRUE_DIVIDE', 'INPLACE_TRUE_DIVIDE', 'none']\n",
      "30 ['none', 'none', 'none', 'GET_LEN', 'GET_LEN']\n",
      "31 ['none', 'none', 'none', 'MATCH_MAPPING', 'MATCH_MAPPING']\n",
      "32 ['none', 'none', 'none', 'MATCH_SEQUENCE', 'MATCH_SEQUENCE']\n",
      "33 ['none', 'none', 'none', 'MATCH_KEYS', 'MATCH_KEYS']\n",
      "34 ['none', 'none', 'none', 'COPY_DICT_WITHOUT_KEYS', 'none']\n",
      "35 ['none', 'none', 'none', 'none', 'PUSH_EXC_INFO']\n",
      "36 ['none', 'none', 'none', 'none', 'CHECK_EXC_MATCH']\n",
      "37 ['none', 'none', 'none', 'none', 'CHECK_EG_MATCH']\n",
      "48 ['none', 'none', 'RERAISE', 'none', 'none']\n",
      "49 ['none', 'none', 'WITH_EXCEPT_START', 'WITH_EXCEPT_START', 'WITH_EXCEPT_START']\n",
      "53 ['none', 'BEGIN_FINALLY', 'none', 'none', 'BEFORE_WITH']\n",
      "54 ['none', 'END_ASYNC_FOR', 'END_ASYNC_FOR', 'END_ASYNC_FOR', 'END_ASYNC_FOR']\n",
      "55 ['INPLACE_ADD', 'INPLACE_ADD', 'INPLACE_ADD', 'INPLACE_ADD', 'none']\n",
      "56 ['INPLACE_SUBTRACT', 'INPLACE_SUBTRACT', 'INPLACE_SUBTRACT', 'INPLACE_SUBTRACT', 'none']\n",
      "57 ['INPLACE_MULTIPLY', 'INPLACE_MULTIPLY', 'INPLACE_MULTIPLY', 'INPLACE_MULTIPLY', 'none']\n",
      "59 ['INPLACE_MODULO', 'INPLACE_MODULO', 'INPLACE_MODULO', 'INPLACE_MODULO', 'none']\n",
      "62 ['BINARY_LSHIFT', 'BINARY_LSHIFT', 'BINARY_LSHIFT', 'BINARY_LSHIFT', 'none']\n",
      "63 ['BINARY_RSHIFT', 'BINARY_RSHIFT', 'BINARY_RSHIFT', 'BINARY_RSHIFT', 'none']\n",
      "64 ['BINARY_AND', 'BINARY_AND', 'BINARY_AND', 'BINARY_AND', 'none']\n",
      "65 ['BINARY_XOR', 'BINARY_XOR', 'BINARY_XOR', 'BINARY_XOR', 'none']\n",
      "66 ['BINARY_OR', 'BINARY_OR', 'BINARY_OR', 'BINARY_OR', 'none']\n",
      "67 ['INPLACE_POWER', 'INPLACE_POWER', 'INPLACE_POWER', 'INPLACE_POWER', 'none']\n",
      "72 ['YIELD_FROM', 'YIELD_FROM', 'YIELD_FROM', 'YIELD_FROM', 'none']\n",
      "73 ['GET_AWAITABLE', 'GET_AWAITABLE', 'GET_AWAITABLE', 'GET_AWAITABLE', 'none']\n",
      "74 ['none', 'none', 'LOAD_ASSERTION_ERROR', 'LOAD_ASSERTION_ERROR', 'LOAD_ASSERTION_ERROR']\n",
      "75 ['INPLACE_LSHIFT', 'INPLACE_LSHIFT', 'INPLACE_LSHIFT', 'INPLACE_LSHIFT', 'RETURN_GENERATOR']\n",
      "76 ['INPLACE_RSHIFT', 'INPLACE_RSHIFT', 'INPLACE_RSHIFT', 'INPLACE_RSHIFT', 'none']\n",
      "77 ['INPLACE_AND', 'INPLACE_AND', 'INPLACE_AND', 'INPLACE_AND', 'none']\n",
      "78 ['INPLACE_XOR', 'INPLACE_XOR', 'INPLACE_XOR', 'INPLACE_XOR', 'none']\n",
      "79 ['INPLACE_OR', 'INPLACE_OR', 'INPLACE_OR', 'INPLACE_OR', 'none']\n",
      "80 ['BREAK_LOOP', 'none', 'none', 'none', 'none']\n",
      "81 ['WITH_CLEANUP_START', 'WITH_CLEANUP_START', 'none', 'none', 'none']\n",
      "82 ['WITH_CLEANUP_FINISH', 'WITH_CLEANUP_FINISH', 'LIST_TO_TUPLE', 'LIST_TO_TUPLE', 'LIST_TO_TUPLE']\n",
      "87 ['POP_BLOCK', 'POP_BLOCK', 'POP_BLOCK', 'POP_BLOCK', 'ASYNC_GEN_WRAP']\n",
      "88 ['END_FINALLY', 'END_FINALLY', 'none', 'none', 'PREP_RERAISE_STAR']\n",
      "99 ['none', 'none', 'none', 'ROT_N', 'SWAP']\n",
      "113 ['JUMP_ABSOLUTE', 'JUMP_ABSOLUTE', 'JUMP_ABSOLUTE', 'JUMP_ABSOLUTE', 'none']\n",
      "114 ['POP_JUMP_IF_FALSE', 'POP_JUMP_IF_FALSE', 'POP_JUMP_IF_FALSE', 'POP_JUMP_IF_FALSE', 'POP_JUMP_FORWARD_IF_FALSE']\n",
      "115 ['POP_JUMP_IF_TRUE', 'POP_JUMP_IF_TRUE', 'POP_JUMP_IF_TRUE', 'POP_JUMP_IF_TRUE', 'POP_JUMP_FORWARD_IF_TRUE']\n",
      "117 ['none', 'none', 'IS_OP', 'IS_OP', 'IS_OP']\n",
      "118 ['none', 'none', 'CONTAINS_OP', 'CONTAINS_OP', 'CONTAINS_OP']\n",
      "119 ['CONTINUE_LOOP', 'none', 'none', 'RERAISE', 'RERAISE']\n",
      "120 ['SETUP_LOOP', 'none', 'none', 'none', 'COPY']\n",
      "121 ['SETUP_EXCEPT', 'none', 'JUMP_IF_NOT_EXC_MATCH', 'JUMP_IF_NOT_EXC_MATCH', 'none']\n",
      "122 ['SETUP_FINALLY', 'SETUP_FINALLY', 'SETUP_FINALLY', 'SETUP_FINALLY', 'BINARY_OP']\n",
      "123 ['none', 'none', 'none', 'none', 'SEND']\n",
      "128 ['none', 'none', 'none', 'none', 'POP_JUMP_FORWARD_IF_NOT_NONE']\n",
      "129 ['none', 'none', 'none', 'GEN_START', 'POP_JUMP_FORWARD_IF_NONE']\n",
      "131 ['CALL_FUNCTION', 'CALL_FUNCTION', 'CALL_FUNCTION', 'CALL_FUNCTION', 'GET_AWAITABLE']\n",
      "134 ['none', 'none', 'none', 'none', 'JUMP_BACKWARD_NO_INTERRUPT']\n",
      "135 ['LOAD_CLOSURE', 'LOAD_CLOSURE', 'LOAD_CLOSURE', 'LOAD_CLOSURE', 'MAKE_CELL']\n",
      "136 ['LOAD_DEREF', 'LOAD_DEREF', 'LOAD_DEREF', 'LOAD_DEREF', 'LOAD_CLOSURE']\n",
      "137 ['STORE_DEREF', 'STORE_DEREF', 'STORE_DEREF', 'STORE_DEREF', 'LOAD_DEREF']\n",
      "138 ['DELETE_DEREF', 'DELETE_DEREF', 'DELETE_DEREF', 'DELETE_DEREF', 'STORE_DEREF']\n",
      "139 ['none', 'none', 'none', 'none', 'DELETE_DEREF']\n",
      "140 ['none', 'none', 'none', 'none', 'JUMP_BACKWARD']\n",
      "141 ['CALL_FUNCTION_KW', 'CALL_FUNCTION_KW', 'CALL_FUNCTION_KW', 'CALL_FUNCTION_KW', 'none']\n",
      "143 ['SETUP_WITH', 'SETUP_WITH', 'SETUP_WITH', 'SETUP_WITH', 'none']\n",
      "149 ['BUILD_LIST_UNPACK', 'BUILD_LIST_UNPACK', 'none', 'none', 'COPY_FREE_VARS']\n",
      "150 ['BUILD_MAP_UNPACK', 'BUILD_MAP_UNPACK', 'none', 'none', 'none']\n",
      "151 ['BUILD_MAP_UNPACK_WITH_CALL', 'BUILD_MAP_UNPACK_WITH_CALL', 'none', 'none', 'RESUME']\n",
      "152 ['BUILD_TUPLE_UNPACK', 'BUILD_TUPLE_UNPACK', 'none', 'MATCH_CLASS', 'MATCH_CLASS']\n",
      "153 ['BUILD_SET_UNPACK', 'BUILD_SET_UNPACK', 'none', 'none', 'none']\n",
      "154 ['SETUP_ASYNC_WITH', 'SETUP_ASYNC_WITH', 'SETUP_ASYNC_WITH', 'SETUP_ASYNC_WITH', 'none']\n",
      "158 ['BUILD_TUPLE_UNPACK_WITH_CALL', 'BUILD_TUPLE_UNPACK_WITH_CALL', 'none', 'none', 'none']\n",
      "161 ['CALL_METHOD', 'CALL_METHOD', 'CALL_METHOD', 'CALL_METHOD', 'none']\n",
      "162 ['none', 'CALL_FINALLY', 'LIST_EXTEND', 'LIST_EXTEND', 'LIST_EXTEND']\n",
      "163 ['none', 'POP_FINALLY', 'SET_UPDATE', 'SET_UPDATE', 'SET_UPDATE']\n",
      "164 ['none', 'none', 'DICT_MERGE', 'DICT_MERGE', 'DICT_MERGE']\n",
      "165 ['none', 'none', 'DICT_UPDATE', 'DICT_UPDATE', 'DICT_UPDATE']\n",
      "166 ['none', 'none', 'none', 'none', 'PRECALL']\n",
      "171 ['none', 'none', 'none', 'none', 'CALL']\n",
      "172 ['none', 'none', 'none', 'none', 'KW_NAMES']\n",
      "173 ['none', 'none', 'none', 'none', 'POP_JUMP_BACKWARD_IF_NOT_NONE']\n",
      "174 ['none', 'none', 'none', 'none', 'POP_JUMP_BACKWARD_IF_NONE']\n",
      "175 ['none', 'none', 'none', 'none', 'POP_JUMP_BACKWARD_IF_FALSE']\n",
      "176 ['none', 'none', 'none', 'none', 'POP_JUMP_BACKWARD_IF_TRUE']\n"
     ]
    }
   ],
   "source": [
    "first_key = forced_sorted_key[0]\n",
    "for i in range(256):\n",
    "    op_str = all_ver_ops[first_key][i]\n",
    "    for v in forced_sorted_key:\n",
    "        if op_str != all_ver_ops[v][i]:\n",
    "            print(i, [all_ver_ops[k][i] for k in forced_sorted_key])\n",
    "            break"
   ]
  },
  {
   "cell_type": "code",
   "execution_count": null,
   "metadata": {},
   "outputs": [],
   "source": []
  }
 ],
 "metadata": {
  "kernelspec": {
   "display_name": "codepickle",
   "language": "python",
   "name": "codepickle"
  },
  "language_info": {
   "codemirror_mode": {
    "name": "ipython",
    "version": 3
   },
   "file_extension": ".py",
   "mimetype": "text/x-python",
   "name": "python",
   "nbconvert_exporter": "python",
   "pygments_lexer": "ipython3",
   "version": "3.11.4"
  }
 },
 "nbformat": 4,
 "nbformat_minor": 4
}
